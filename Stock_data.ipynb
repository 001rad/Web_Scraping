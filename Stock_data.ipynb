{
 "cells": [
  {
   "cell_type": "code",
   "execution_count": 1,
   "id": "350cf6ef",
   "metadata": {},
   "outputs": [
    {
     "name": "stdout",
     "output_type": "stream",
     "text": [
      "Requirement already satisfied: xlsxwriter in c:\\users\\ragha\\anaconda3\\lib\\site-packages (3.2.0)\n",
      "Note: you may need to restart the kernel to use updated packages.\n"
     ]
    }
   ],
   "source": [
    "pip install xlsxwriter"
   ]
  },
  {
   "cell_type": "code",
   "execution_count": 2,
   "id": "b83353c3",
   "metadata": {},
   "outputs": [],
   "source": [
    "import requests\n",
    "from bs4 import BeautifulSoup\n",
    "import pandas as pd"
   ]
  },
  {
   "cell_type": "code",
   "execution_count": 3,
   "id": "c9eb076a",
   "metadata": {},
   "outputs": [
    {
     "name": "stdout",
     "output_type": "stream",
     "text": [
      "                 Year Ending  Current Sep 30, 2023 Sep 24, 2022 Sep 25, 2021  \\\n",
      "0      Market Capitalization  3439592      2676737      2417523      2428612   \n",
      "1          Market Cap Growth    1.49%       10.72%       -0.46%       26.47%   \n",
      "2           Enterprise Value  3381845      2625726      2368483      2362815   \n",
      "3                   PE Ratio    34.88        27.60        24.22        25.65   \n",
      "4                   PS Ratio     9.01         6.98         6.13         6.64   \n",
      "5                   PB Ratio    46.36        43.07        47.71        38.49   \n",
      "6                P/FCF Ratio    33.75        26.88        21.69        26.13   \n",
      "7                P/OCF Ratio    31.11        24.21        19.79        23.34   \n",
      "8             EV/Sales Ratio     8.86         6.85         6.01         6.46   \n",
      "9            EV/EBITDA Ratio    25.72        20.32        17.79        19.19   \n",
      "10             EV/EBIT Ratio    28.16        22.31        19.41        21.12   \n",
      "11              EV/FCF Ratio    33.18        26.37        21.25        25.42   \n",
      "12       Debt / Equity Ratio     1.41         1.79         2.37         1.98   \n",
      "13       Debt / EBITDA Ratio     0.80         0.86         0.90         1.01   \n",
      "14          Debt / FCF Ratio     1.03         1.12         1.08         1.34   \n",
      "15               Quick Ratio     0.87         0.84         0.71         0.91   \n",
      "16             Current Ratio     1.04         0.99         0.88         1.08   \n",
      "17            Asset Turnover     1.11         1.12         1.11         1.07   \n",
      "18         Interest Coverage    60.06        29.92        41.64        42.29   \n",
      "19    Return on Equity (ROE)  148.30%      160.80%      160.90%      144.10%   \n",
      "20    Return on Assets (ROA)   29.10%       28.40%       28.10%       27.60%   \n",
      "21  Return on Capital (ROIC)   56.21%       56.27%       58.62%       50.29%   \n",
      "22            Earnings Yield    2.92%        3.62%        4.13%        3.90%   \n",
      "23                 FCF Yield    2.96%        3.72%        4.61%        3.83%   \n",
      "24            Dividend Yield    0.45%        0.50%        0.60%        0.60%   \n",
      "25              Payout Ratio   15.55%       15.30%       14.60%       15.00%   \n",
      "26  Buyback Yield / Dilution    2.41%        3.14%        3.20%        3.78%   \n",
      "27  Total Shareholder Return    2.86%        3.64%        3.80%        4.38%   \n",
      "\n",
      "   Sep 26, 2020 Sep 28, 2019 2018 - 1993  \n",
      "0       1920273       988887     Upgrade  \n",
      "1        94.19%       -9.30%     Upgrade  \n",
      "2       1840879       891036     Upgrade  \n",
      "3         33.45        17.90     Upgrade  \n",
      "4          7.00         3.80     Upgrade  \n",
      "5         29.39        10.93     Upgrade  \n",
      "6         26.17        16.79     Upgrade  \n",
      "7         23.80        14.25     Upgrade  \n",
      "8          6.71         3.42     Upgrade  \n",
      "9         22.72        10.88     Upgrade  \n",
      "10        26.31        12.86     Upgrade  \n",
      "11        25.09        15.13     Upgrade  \n",
      "12         1.72         1.19     Upgrade  \n",
      "13         1.39         1.32     Upgrade  \n",
      "14         1.53         1.83     Upgrade  \n",
      "15         1.22         1.38     Upgrade  \n",
      "16         1.36         1.54     Upgrade  \n",
      "17         0.84         0.76     Upgrade  \n",
      "18        24.35        19.38     Upgrade  \n",
      "19       75.20%       53.80%     Upgrade  \n",
      "20       17.60%       16.10%     Upgrade  \n",
      "21       31.91%       27.07%     Upgrade  \n",
      "22        2.99%        5.59%     Upgrade  \n",
      "23        3.82%        5.96%     Upgrade  \n",
      "24        0.70%        1.40%     Upgrade  \n",
      "25       24.00%       25.10%     Upgrade  \n",
      "26        5.74%        7.02%     Upgrade  \n",
      "27        6.44%        8.42%     Upgrade  \n"
     ]
    }
   ],
   "source": [
    "\n",
    "headers= {\n",
    "    'user-agent': 'Mozilla/5.0 (Windows NT 10.0; Win64; x64; rv:87.0) Gecko/20100101 Firefox/87.0',\n",
    "    'Accept': 'text/html,application/xhtml+xml,application/xml;q=0.9,image/webp,*/*;q=0.8',\n",
    "    'Accept-Language': 'en-US,en;q=0.5',\n",
    "    'Connection': 'keep-alive',\n",
    "    'Upgrade-Insecure-Requests': '1',\n",
    "    'Cache-Control': 'max-age=0'\n",
    "}\n",
    "\n",
    "ticker = 'FB'\n",
    "# <table id=\"\" data-test=\"financials\" class=\"w-full border-separate border-spacing-0 whitespace-nowrap\">\n",
    "urls = {}\n",
    "urls['income annually'] = f\"https://stockanalysis.com/stocks/{ticker}/financials/\"\n",
    "urls['income quarterly'] = f\"https://stockanalysis.com/stocks/{ticker}/financials/?period=quarterly\"\n",
    "urls['balance sheet annually'] = f\"https://stockanalysis.com/stocks/{ticker}/financials/balance-sheet/\"\n",
    "urls['balance sheet quarterly'] = f\"https://stockanalysis.com/stocks/{ticker}/financials/balance-sheet/?period=quarterly\"\n",
    "urls['cash flow annually'] = f\"https://stockanalysis.com/stocks/{ticker}/financials/cash-flow-statement/\"\n",
    "urls['cash flow quarterly'] = f\"https://stockanalysis.com/stocks/{ticker}/financials/cash-flow-statement/?period=quarterly\"\n",
    "urls['ratio annually'] = f\"https://stockanalysis.com/stocks/aapl/financials/ratios/\"\n",
    "urls['ratio quarterly'] = f\"https://stockanalysis.com/stocks/aapl/financials/ratios/?period=quarterly\"\n",
    "\n",
    "xlwriter = pd.ExcelWriter(f'financial statements ({ticker}).xlsx', engine='xlsxwriter')\n",
    "\n",
    "for key in urls.keys():\n",
    "    response = requests.get(urls[key], headers=headers)\n",
    "    soup = BeautifulSoup(response.content, 'html.parser')\n",
    "    df = pd.read_html(str(soup), attrs={'id': 'main-table'})[0]\n",
    "    df.to_excel(xlwriter, sheet_name=key, index=False)\n",
    "\n",
    "xlwriter.close()\n",
    "print(df)"
   ]
  },
  {
   "cell_type": "code",
   "execution_count": null,
   "id": "3987007d",
   "metadata": {},
   "outputs": [],
   "source": []
  }
 ],
 "metadata": {
  "kernelspec": {
   "display_name": "Python 3 (ipykernel)",
   "language": "python",
   "name": "python3"
  },
  "language_info": {
   "codemirror_mode": {
    "name": "ipython",
    "version": 3
   },
   "file_extension": ".py",
   "mimetype": "text/x-python",
   "name": "python",
   "nbconvert_exporter": "python",
   "pygments_lexer": "ipython3",
   "version": "3.11.5"
  }
 },
 "nbformat": 4,
 "nbformat_minor": 5
}
